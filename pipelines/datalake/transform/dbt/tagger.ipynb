{
 "cells": [
  {
   "cell_type": "code",
   "execution_count": 1,
   "metadata": {},
   "outputs": [],
   "source": [
    "# load json file and print it\n",
    "import json\n",
    "\n",
    "\n",
    "def tagger(manifest_path: str):\n",
    "    with open(manifest_path, \"r\") as f:\n",
    "        data = json.load(f)\n",
    "    return data\n",
    "\n"
   ]
  },
  {
   "cell_type": "code",
   "execution_count": 2,
   "metadata": {},
   "outputs": [],
   "source": [
    "manifest = tagger(\"/Users/thiagotrabach/projects/queries-rj-sms/target/manifest.json\")\n",
    "\n",
    "tables = [\n",
    "    \"rj_sms.raw.prontuario_vitacare.base.base_prontuario_vitacare__atendimento_historico\",\n",
    "    \"rj_sms.raw.prontuario_vitacare.base.base_prontuario_vitacare__atendimento_rotineiro\",\n",
    "    \"rj_sms.raw.prontuario_vitacare.base.base_prontuario_vitacare__paciente_historico\",\n",
    "    \"rj_sms.raw.prontuario_vitacare.base.base_prontuario_vitacare__paciente_rotineiro\",\n",
    "    \"rj_sms.marts.gerenciamento.historico_clinico.gerenciamento__historico_clinico__processamento_estatisticas\",\n",
    "    \"rj_sms.intermediate.estoque.int_estoque__material_curva_pqrs\",\n",
    "    \"rj_sms.intermediate.gerenciamento.historico_clinico.int_gerenciamento__historico_clinico__episodio_contagem\",\n",
    "    \"rj_sms.intermediate.gerenciamento.historico_clinico.int_gerenciamento__historico_clinico__paciente_contagem\",\n",
    "    \"rj_sms.intermediate.historico_clinico.alergia.int_historico_clinico__alergia__vitacare\",\n",
    "    \"rj_sms.intermediate.historico_clinico.alergia.int_historico_clinico__alergia__vitai\",\n",
    "    \"rj_sms.intermediate.historico_clinico.episodio.int_historico_clinico__episodio__vitacare\",\n",
    "    \"rj_sms.intermediate.historico_clinico.episodio.int_historico_clinico__episodio__vitai\",\n",
    "    \"rj_sms.intermediate.historico_clinico.paciente.int_historico_clinico__paciente__smsrio\",\n",
    "    \"rj_sms.intermediate.historico_clinico.paciente.int_historico_clinico__paciente__vitacare\",\n",
    "    \"rj_sms.intermediate.historico_clinico.paciente.int_historico_clinico__paciente__vitai\",\n",
    "    \"rj_sms.marts.estoque.report.gestao.mart_estoque__report_gestao\",\n",
    "    \"rj_sms.marts.estoque.report.medicamentos_controlados.mart_estoque__report_medicamentos_controlados__itens_com_movimento\",\n",
    "    \"rj_sms.marts.estoque.report.medicamentos_controlados.mart_estoque__report_medicamentos_controlados__itens_sem_movimento\",\n",
    "    \"rj_sms.marts.estoque.report.medicamentos_controlados.mart_estoque__report_medicamentos_controlados__relacao_relatorios\",\n",
    "    \"rj_sms.marts.historico_clinico.mart_historico_clinico__alergia\",\n",
    "    \"rj_sms.marts.historico_clinico.mart_historico_clinico__episodio\",\n",
    "    \"rj_sms.marts.historico_clinico.mart_historico_clinico__medicamento_cronico\",\n",
    "    \"rj_sms.marts.historico_clinico.mart_historico_clinico__paciente\",\n",
    "    \"rj_sms.marts.historico_clinico_app.mart_historico_clinico_app__episodio\",\n",
    "    \"rj_sms.marts.historico_clinico_app.mart_historico_clinico_app__paciente\",\n",
    "    \"rj_sms.marts.historico_clinico_app.mart_historico_clinico_app__sumario\",\n",
    "    \"rj_sms.marts.seguir_em_frente.mart_seguir_em_frente__bolsista\",\n",
    "    \"rj_sms.marts.seguir_em_frente.mart_seguir_em_frente__controle_presenca\",\n",
    "    \"rj_sms.raw.cnes_ftp.raw_cnes_ftp__equipamento\",\n",
    "    \"rj_sms.raw.cnes_ftp.raw_cnes_ftp__estabelecimento\",\n",
    "    \"rj_sms.raw.cnes_ftp.raw_cnes_ftp__habilitacao\",\n",
    "    \"rj_sms.raw.cnes_ftp.raw_cnes_ftp__leito\",\n",
    "    \"rj_sms.raw.cnes_ftp.raw_cnes_ftp__profissional\",\n",
    "    \"rj_sms.raw.cnes_web.raw_cnes_web__area\",\n",
    "    \"rj_sms.raw.cnes_web.raw_cnes_web__dados_profissional_sus\",\n",
    "    \"rj_sms.raw.cnes_web.raw_cnes_web__equipe\",\n",
    "    \"rj_sms.raw.cnes_web.raw_cnes_web__equipe_profissionais\",\n",
    "    \"rj_sms.raw.cnes_web.raw_cnes_web__equipe_tipo\",\n",
    "    \"rj_sms.raw.cnes_web.raw_cnes_web__estabelecimento\",\n",
    "    \"rj_sms.raw.cnes_web.raw_cnes_web__gestao_nivel_atencao\",\n",
    "    \"rj_sms.raw.cnes_web.raw_cnes_web__tipo_nivel_atencao\",\n",
    "    \"rj_sms.raw.cnes_web.raw_cnes_web__tipo_unidade\",\n",
    "    \"rj_sms.raw.cnes_web.raw_cnes_web__tipo_vinculo\",\n",
    "    \"rj_sms.raw.cnes_web.raw_cnes_web__turno_atendimento\",\n",
    "    \"rj_sms.raw.cnes_web.raw_cnes_web__vinculo\",\n",
    "    \"rj_sms.raw.datasus.raw_datasus__cbo\",\n",
    "    \"rj_sms.raw.datasus.raw_datasus__cbo_fam\",\n",
    "    \"rj_sms.raw.datasus.raw_datasus__cid10\",\n",
    "    \"rj_sms.raw.estoque_central_tpc.raw_estoque_central_tpc__estoque_posicao\",\n",
    "    \"rj_sms.raw.osinfo.raw_osinfo__conta_bancaria\",\n",
    "    \"rj_sms.raw.osinfo.raw_osinfo__contrato\",\n",
    "    \"rj_sms.raw.osinfo.raw_osinfo__contrato_terceiros\",\n",
    "    \"rj_sms.raw.osinfo.raw_osinfo__despesas\",\n",
    "    \"rj_sms.raw.osinfo.raw_osinfo__historico_alteracoes\",\n",
    "    \"rj_sms.raw.osinfo.raw_osinfo__itens_nota_fiscal\",\n",
    "    \"rj_sms.raw.osinfo.raw_osinfo__receitas\",\n",
    "    \"rj_sms.raw.osinfo.raw_osinfo__saldos\",\n",
    "    \"rj_sms.raw.plataforma_smsrio.raw_plataforma_smsrio__estabelecimento_contato\",\n",
    "    \"rj_sms.raw.prontuario_vitacare.raw_prontuario_vitacare__atendimento\",\n",
    "    \"source:rj_sms.brutos_datasus_staging.cid10\",\n",
    "    \"source:rj_sms.brutos_plataforma_smsrio_staging.estabelecimento_contato\",\n",
    "    \"source:rj_sms.brutos_prontuario_vitacare_staging.alergias_historico\",\n",
    "    \"source:rj_sms.brutos_prontuario_vitacare_staging.atendimento_eventos\",\n",
    "    \"source:rj_sms.brutos_prontuario_vitacare_staging.atendimentos_historico\",\n",
    "    \"source:rj_sms.brutos_prontuario_vitacare_staging.condicoes_historico\",\n",
    "    \"source:rj_sms.brutos_prontuario_vitacare_staging.encaminhamentos_historico\",\n",
    "    \"source:rj_sms.brutos_prontuario_vitacare_staging.equipes_historico\",\n",
    "    \"source:rj_sms.brutos_prontuario_vitacare_staging.exame_historico\",\n",
    "    \"source:rj_sms.brutos_prontuario_vitacare_staging.indicadores_historico\",\n",
    "    \"source:rj_sms.brutos_prontuario_vitacare_staging.prescricoes_historico\",\n",
    "    \"source:rj_sms.brutos_prontuario_vitacare_staging.procedimentos_historico\",\n",
    "    \"source:rj_sms.brutos_prontuario_vitacare_staging.profissionais_historico\",\n",
    "    \"source:rj_sms.brutos_prontuario_vitacare_staging.solicitacao_historico\",\n",
    "    \"source:rj_sms.brutos_prontuario_vitacare_staging.vacinas_historico\",\n",
    "    \"source:rj_sms.brutos_prontuario_vitai_staging.alta_eventos\",\n",
    "    \"source:rj_sms.brutos_prontuario_vitai_staging.internacao_eventos\",\n",
    "    \"source:rj_sms.brutos_prontuario_vitai_staging.resumo_alta_eventos\",\n",
    "    \"source:rj_sms.brutos_sheets_staging.compras_atas_processos_vigentes\",\n",
    "    \"source:rj_sms.brutos_sheets_staging.compras_registro_preco\",\n",
    "    \"source:rj_sms.osinfo.administracao_perfil\",\n",
    "    \"source:rj_sms.osinfo.administracao_unidade\",\n",
    "    \"source:rj_sms.osinfo.administracao_unidade_perfil\",\n",
    "    \"source:rj_sms.osinfo.agencia\",\n",
    "]"
   ]
  },
  {
   "cell_type": "code",
   "execution_count": 3,
   "metadata": {},
   "outputs": [],
   "source": [
    "def classify_access(properties: dict):\n",
    "    \n",
    "    labels = properties[\"config\"][\"labels\"]\n",
    "\n",
    "    keys = [\"dado_publico\", \"dado_sensivel_saude\", \"dado_pessoal\", \"dado_anonimizado\"]\n",
    "    if all(key in labels.keys() for key in keys):\n",
    "        if labels[\"dado_pessoal\"] == \"sim\":\n",
    "            if labels[\"dado_publico\"] == \"sim\":\n",
    "                return \"publico\"\n",
    "            else:\n",
    "                if labels[\"dado_sensivel_saude\"] == \"nao\" and labels[\"dado_anonimizado\"] == \"sim\":\n",
    "                    return \"interno\"\n",
    "                elif (labels[\"dado_sensivel_saude\"] == \"sim\" and labels[\"dado_anonimizado\"] == \"sim\") or (labels[\"dado_sensivel_saude\"] == \"nao\" and labels[\"dado_anonimizado\"] == \"nao\"):\n",
    "                    return \"confidencial\"\n",
    "                elif labels[\"dado_sensivel_saude\"] == \"sim\" and labels[\"dado_anonimizado\"] == \"nao\":\n",
    "                    return \"restrito\"\n",
    "                else:\n",
    "                    return \"nao_definido\"\n",
    "        else:\n",
    "            if labels[\"dado_publico\"] == \"sim\":\n",
    "                return \"publico\"\n",
    "            else:\n",
    "                return \"interno\"\n",
    "    else:\n",
    "        return \"nao_definido\""
   ]
  },
  {
   "cell_type": "code",
   "execution_count": 4,
   "metadata": {},
   "outputs": [
    {
     "name": "stdout",
     "output_type": "stream",
     "text": [
      "{'bq_table_name': 'rj-sms-dev.thiago__intermediario_historico_clinico.alergias_vitacare', 'access': 'restrito'}\n",
      "{'bq_table_name': 'rj-sms-dev.thiago__intermediario_historico_clinico.alergias_vitai', 'access': 'restrito'}\n",
      "{'bq_table_name': 'rj-sms-dev.thiago__intermediario_historico_clinico.episodio_assistencial_vitacare', 'access': 'restrito'}\n",
      "{'bq_table_name': 'rj-sms-dev.thiago__intermediario_historico_clinico.episodio_assistencial_vitai', 'access': 'restrito'}\n",
      "{'bq_table_name': 'rj-sms-dev.thiago__intermediario_historico_clinico.paciente_smsrio', 'access': 'restrito'}\n",
      "{'bq_table_name': 'rj-sms-dev.thiago__intermediario_historico_clinico.paciente_vitacare', 'access': 'restrito'}\n",
      "{'bq_table_name': 'rj-sms-dev.thiago__intermediario_historico_clinico.paciente_vitai', 'access': 'restrito'}\n",
      "{'bq_table_name': 'rj-sms-dev.thiago__saude_historico_clinico.alergia', 'access': 'restrito'}\n",
      "{'bq_table_name': 'rj-sms-dev.thiago__saude_historico_clinico.episodio_assistencial', 'access': 'restrito'}\n",
      "{'bq_table_name': 'rj-sms-dev.thiago__saude_historico_clinico.medicamento_cronico', 'access': 'restrito'}\n",
      "{'bq_table_name': 'rj-sms-dev.thiago__saude_dados_mestres.paciente', 'access': 'restrito'}\n",
      "{'bq_table_name': 'rj-sms-dev.thiago__app_historico_clinico.episodio_assistencial', 'access': 'restrito'}\n",
      "{'bq_table_name': 'rj-sms-dev.thiago__app_historico_clinico.paciente', 'access': 'restrito'}\n",
      "{'bq_table_name': 'rj-sms-dev.thiago__app_historico_clinico.sumario', 'access': 'restrito'}\n",
      "{'bq_table_name': 'rj-sms-dev.thiago__projeto_seguir_em_frente.bolsista', 'access': 'restrito'}\n",
      "{'bq_table_name': 'rj-sms-dev.thiago__projeto_seguir_em_frente.controle_presenca', 'access': 'restrito'}\n",
      "{'bq_table_name': 'rj-sms-dev.thiago__brutos_cnes_ftp.equipamento', 'access': 'publico'}\n",
      "{'bq_table_name': 'rj-sms-dev.thiago__brutos_cnes_ftp.estabelecimento', 'access': 'publico'}\n",
      "{'bq_table_name': 'rj-sms-dev.thiago__brutos_cnes_ftp.habilitacao', 'access': 'publico'}\n",
      "{'bq_table_name': 'rj-sms-dev.thiago__brutos_cnes_ftp.leito', 'access': 'publico'}\n",
      "{'bq_table_name': 'rj-sms-dev.thiago__brutos_cnes_ftp.profissional', 'access': 'publico'}\n",
      "{'bq_table_name': 'rj-sms-dev.thiago__brutos_cnes_web.area', 'access': 'publico'}\n",
      "{'bq_table_name': 'rj-sms-dev.thiago__brutos_cnes_web.dados_profissionais_sus', 'access': 'publico'}\n",
      "{'bq_table_name': 'rj-sms-dev.thiago__brutos_cnes_web.equipe', 'access': 'publico'}\n",
      "{'bq_table_name': 'rj-sms-dev.thiago__brutos_cnes_web.equipe_profissionais', 'access': 'publico'}\n",
      "{'bq_table_name': 'rj-sms-dev.thiago__brutos_cnes_web.equipe_tipo', 'access': 'publico'}\n",
      "{'bq_table_name': 'rj-sms-dev.thiago__brutos_cnes_web.estabelecimento', 'access': 'publico'}\n",
      "{'bq_table_name': 'rj-sms-dev.thiago__brutos_cnes_web.gestao_nivel_atencao', 'access': 'publico'}\n",
      "{'bq_table_name': 'rj-sms-dev.thiago__brutos_cnes_web.tipo_nivel_atencao', 'access': 'publico'}\n",
      "{'bq_table_name': 'rj-sms-dev.thiago__brutos_cnes_web.tipo_unidade', 'access': 'publico'}\n",
      "{'bq_table_name': 'rj-sms-dev.thiago__brutos_cnes_web.tipo_vinculo_empregaticio', 'access': 'publico'}\n",
      "{'bq_table_name': 'rj-sms-dev.thiago__brutos_cnes_web.turno_atendimento', 'access': 'publico'}\n",
      "{'bq_table_name': 'rj-sms-dev.thiago__brutos_cnes_web.vinculo_empregaticio', 'access': 'publico'}\n",
      "{'bq_table_name': 'rj-sms-dev.thiago__brutos_datasus.cbo', 'access': 'publico'}\n",
      "{'bq_table_name': 'rj-sms-dev.thiago__brutos_datasus.cbo_fam', 'access': 'publico'}\n",
      "{'bq_table_name': 'rj-sms-dev.thiago__brutos_datasus.cid10', 'access': 'publico'}\n",
      "{'bq_table_name': 'rj-sms-dev.thiago__brutos_estoque_central_tpc.estoque_posicao', 'access': 'interno'}\n",
      "{'bq_table_name': 'rj-sms-dev.thiago__brutos_osinfo.conta bancaria', 'access': 'interno'}\n",
      "{'bq_table_name': 'rj-sms-dev.thiago__brutos_osinfo.contrato', 'access': 'interno'}\n",
      "{'bq_table_name': 'rj-sms-dev.thiago__brutos_osinfo.contrato_terceiros', 'access': 'interno'}\n",
      "{'bq_table_name': 'rj-sms-dev.thiago__brutos_osinfo.despesas', 'access': 'interno'}\n",
      "{'bq_table_name': 'rj-sms-dev.thiago__brutos_osinfo.historico_alteracoes', 'access': 'interno'}\n",
      "{'bq_table_name': 'rj-sms-dev.thiago__brutos_osinfo.itens_nota_fiscal', 'access': 'interno'}\n",
      "{'bq_table_name': 'rj-sms-dev.thiago__brutos_osinfo.receitas', 'access': 'interno'}\n",
      "{'bq_table_name': 'rj-sms-dev.thiago__brutos_osinfo.saldos', 'access': 'interno'}\n"
     ]
    }
   ],
   "source": [
    "bq_tables = []\n",
    "\n",
    "for table in tables:\n",
    "    if \"source\" in table:\n",
    "        type = \"source\"\n",
    "        node = \"sources\"\n",
    "        dbt_table_id = table.replace(\"source:\", \"source.\")\n",
    "    else:\n",
    "        type = \"model\"\n",
    "        node = \"nodes\"\n",
    "        dbt_table_id = f\"model.rj_sms.{table.split('.')[-1]}\"\n",
    "        # print(dbt_table_id)\n",
    "        # print(bq_table_name)\n",
    "    try:\n",
    "        properties = manifest[node][dbt_table_id]\n",
    "        #print(properties[\"config\"][\"labels\"])\n",
    "        #print(classify_access(properties))\n",
    "        if type == \"model\":\n",
    "            bq_table_name = f\"{properties['database']}.{properties['schema']}.{properties['alias']}\"\n",
    "        else:\n",
    "            bq_table_name = f\"{properties['database']}.{properties['schema']}.{properties['name']}\"\n",
    "\n",
    "        result = {\"bq_table_name\": bq_table_name, \"access\": classify_access(properties)}\n",
    "\n",
    "        print(result)\n",
    "\n",
    "\n",
    "    except:\n",
    "        pass"
   ]
  },
  {
   "cell_type": "code",
   "execution_count": 43,
   "metadata": {},
   "outputs": [
    {
     "name": "stdout",
     "output_type": "stream",
     "text": [
      "83\n",
      "37\n"
     ]
    }
   ],
   "source": [
    "print(len(tables))\n",
    "print(len(bq_tables))"
   ]
  },
  {
   "cell_type": "code",
   "execution_count": 35,
   "metadata": {},
   "outputs": [
    {
     "data": {
      "text/plain": [
       "dict_keys(['dados_publicos', 'dado_sensivel_saude', 'contem_pii'])"
      ]
     },
     "execution_count": 35,
     "metadata": {},
     "output_type": "execute_result"
    }
   ],
   "source": [
    "labels = {'dados_publicos': 'nao', 'dado_sensivel_saude': 'sim', 'contem_pii': 'sim'}\n",
    "labels.keys()"
   ]
  },
  {
   "cell_type": "code",
   "execution_count": 37,
   "metadata": {},
   "outputs": [
    {
     "ename": "TypeError",
     "evalue": "unhashable type: 'list'",
     "output_type": "error",
     "traceback": [
      "\u001b[0;31m---------------------------------------------------------------------------\u001b[0m",
      "\u001b[0;31mTypeError\u001b[0m                                 Traceback (most recent call last)",
      "Cell \u001b[0;32mIn[37], line 1\u001b[0m\n\u001b[0;32m----> 1\u001b[0m \u001b[43m[\u001b[49m\u001b[38;5;124;43m\"\u001b[39;49m\u001b[38;5;124;43mdados_publicos\u001b[39;49m\u001b[38;5;124;43m\"\u001b[39;49m\u001b[43m,\u001b[49m\u001b[43m \u001b[49m\u001b[38;5;124;43m\"\u001b[39;49m\u001b[38;5;124;43mdado_sensivel_saude\u001b[39;49m\u001b[38;5;124;43m\"\u001b[39;49m\u001b[43m]\u001b[49m\u001b[43m \u001b[49m\u001b[38;5;129;43;01min\u001b[39;49;00m\u001b[43m \u001b[49m\u001b[43mlabels\u001b[49m\u001b[38;5;241;43m.\u001b[39;49m\u001b[43mkeys\u001b[49m\u001b[43m(\u001b[49m\u001b[43m)\u001b[49m\n",
      "\u001b[0;31mTypeError\u001b[0m: unhashable type: 'list'"
     ]
    }
   ],
   "source": [
    "[\"dados_publicos\", \"dado_sensivel_saude\"] in labels.keys()"
   ]
  },
  {
   "cell_type": "code",
   "execution_count": 39,
   "metadata": {},
   "outputs": [
    {
     "name": "stdout",
     "output_type": "stream",
     "text": [
      "All keys are in the dictionary\n"
     ]
    }
   ],
   "source": [
    "# check if a list of keys is in a dictionary\n",
    "keys = [\"dados_publicos\", \"dado_sensivel_saude\"]\n",
    "if all(key in labels.keys() for key in keys):\n",
    "    print(\"All keys are in the dictionary\")"
   ]
  },
  {
   "cell_type": "code",
   "execution_count": null,
   "metadata": {},
   "outputs": [],
   "source": []
  }
 ],
 "metadata": {
  "kernelspec": {
   "display_name": "caixa_de_areia-env",
   "language": "python",
   "name": "python3"
  },
  "language_info": {
   "codemirror_mode": {
    "name": "ipython",
    "version": 3
   },
   "file_extension": ".py",
   "mimetype": "text/x-python",
   "name": "python",
   "nbconvert_exporter": "python",
   "pygments_lexer": "ipython3",
   "version": "3.11.6"
  }
 },
 "nbformat": 4,
 "nbformat_minor": 2
}
